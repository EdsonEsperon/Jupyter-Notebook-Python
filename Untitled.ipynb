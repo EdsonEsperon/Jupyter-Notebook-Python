{
 "cells": [
  {
   "cell_type": "markdown",
   "id": "b2004acf",
   "metadata": {},
   "source": [
    "# 1. Introducción a Python: conceptos básicos."
   ]
  },
  {
   "cell_type": "markdown",
   "id": "a3a5533f",
   "metadata": {},
   "source": [
    "En este capítulo introductorio, abordaremos los aspectos básicos de la sintaxis de Python."
   ]
  },
  {
   "cell_type": "markdown",
   "id": "4e4d1941",
   "metadata": {},
   "source": [
    "¿Qué imprimirá el siguiente programa al ejecutarlo?"
   ]
  },
  {
   "cell_type": "code",
   "execution_count": 3,
   "id": "e6490083",
   "metadata": {},
   "outputs": [
    {
     "name": "stdout",
     "output_type": "stream",
     "text": [
      "432\n",
      "Hola, mundo. Hola otra vez\n"
     ]
    }
   ],
   "source": [
    "entero = 450 - 39\n",
    "cadena = \"Hola, mundo\"\n",
    "flotante = 45.32\n",
    "if flotante == 45.32 or cadena == \"Hola, mundo\":\n",
    "    entero = entero + 21\n",
    "    cadena = cadena + \". Hola otra vez\" #concatenación de cadenas de caracteres\n",
    "print(entero)\n",
    "print(cadena)"
   ]
  },
  {
   "cell_type": "markdown",
   "id": "cba1e0e5",
   "metadata": {},
   "source": [
    "Para compreder el código anterior, comencemos a analizar las líneas:"
   ]
  },
  {
   "cell_type": "markdown",
   "id": "220369fd",
   "metadata": {},
   "source": [
    "Al objeto entero, le asignamos el resultado de la operación 450 - 39, que es 411:"
   ]
  },
  {
   "cell_type": "code",
   "execution_count": 10,
   "id": "20ca7a76",
   "metadata": {},
   "outputs": [],
   "source": [
    "entero= 450 - 39"
   ]
  },
  {
   "cell_type": "markdown",
   "id": "54b51df7",
   "metadata": {},
   "source": [
    "Al objeto cadena, le asignamos la cadena de caracteres \"Hola, mundo\". Cabe aclarar que para escribir una cadena de caracteres \n",
    "o string, se tiene que poner dentro de las comillas; \"cadena de caracteres\":"
   ]
  },
  {
   "cell_type": "code",
   "execution_count": 11,
   "id": "7db6cb38",
   "metadata": {},
   "outputs": [],
   "source": [
    "cadena = \"Hola, mundo\""
   ]
  },
  {
   "cell_type": "markdown",
   "id": "7365ec6f",
   "metadata": {},
   "source": [
    "Al objeto flotante, se le asigna el valor flotante (a grandes rasgos, es un valor numérico positivo o negativo con decimales) 45.32:"
   ]
  },
  {
   "cell_type": "code",
   "execution_count": 38,
   "id": "9d388136",
   "metadata": {},
   "outputs": [
    {
     "data": {
      "text/plain": [
       "float"
      ]
     },
     "execution_count": 38,
     "metadata": {},
     "output_type": "execute_result"
    }
   ],
   "source": [
    "flotante = 45.32\n",
    "type(flotante) # la función type nos arroja como resultado el tipo de dato"
   ]
  },
  {
   "cell_type": "markdown",
   "id": "35d52f69",
   "metadata": {},
   "source": [
    "En la siguiente línea abrimos un ciclo. Dicho ciclo se llama if y verifica que si se cumple que el objeto flotante es igual (==) a 45.32 o si cadena es igual (==) a \"Hola, mundo\", entonces el objeto entero, ahora tomará su valor anterior (411) y a éste se le sumará 21 y al objeto cadena se le agregará el texto \". Hola otra vez\". Es decir, si se cumple alguna de estas dos condiciones: flotante == 45.32 o cadena == \"Hola, mundo\", los objetos entero y cadena se actualizaran de acuerdo a la instrucción que le dimos:"
   ]
  },
  {
   "cell_type": "code",
   "execution_count": 13,
   "id": "c8b65a06",
   "metadata": {},
   "outputs": [],
   "source": [
    "if flotante == 45.32 or cadena == \"Hola, mundo\":\n",
    "    entero = entero + 21\n",
    "    cadena = cadena + \". Hola otra vez\" #concatenación de cadenas de caracteres"
   ]
  },
  {
   "cell_type": "markdown",
   "id": "d8467844",
   "metadata": {},
   "source": [
    "Nota: = no es lo mismo que ==, ya que el primero es un símbolo de asignación y el segundo es un signo de comparación lógica."
   ]
  },
  {
   "cell_type": "markdown",
   "id": "e6665b40",
   "metadata": {},
   "source": [
    "También se puede notar que en la parte final de la última línea hay un comentario: #concatenación de cadenas de caracteres.\n",
    "    Los comentarios son código que la computadora ignora. Son importantes, ya que pueden ayudar a otros usuarios a entender nuestro código.\n",
    "    Si se quiere escribir un comentario, se debe poner el símbolo # antes de escribir el comentario. Para hacer comentarios de varias líneas, se utilizan tres símbolos \"\"\" al principio y al final del comentario.\n",
    "    "
   ]
  },
  {
   "cell_type": "markdown",
   "id": "7a06ad13",
   "metadata": {},
   "source": [
    "Por último, después de verificar si se cumple o no el ciclo if (en este caso sí), se imprimen los objetos entero y cadena actualizados:"
   ]
  },
  {
   "cell_type": "code",
   "execution_count": 14,
   "id": "cd786779",
   "metadata": {},
   "outputs": [
    {
     "name": "stdout",
     "output_type": "stream",
     "text": [
      "432\n",
      "Hola, mundo. Hola otra vez\n"
     ]
    }
   ],
   "source": [
    "print(entero)\n",
    "print(cadena)"
   ]
  },
  {
   "cell_type": "markdown",
   "id": "15e365d4",
   "metadata": {},
   "source": [
    "## Variables"
   ]
  },
  {
   "cell_type": "markdown",
   "id": "ff0e8648",
   "metadata": {},
   "source": [
    "Veamos el siguiente código."
   ]
  },
  {
   "cell_type": "code",
   "execution_count": 27,
   "id": "666ceddc",
   "metadata": {},
   "outputs": [
    {
     "name": "stdout",
     "output_type": "stream",
     "text": [
      "Ahora ya no\n"
     ]
    }
   ],
   "source": [
    "x1 = 45 #el salto de línea nos dice quue es el final de la setencia \n",
    "x2 = \"Este texto\" + \\\n",
    "\"es muy extenso\"    #El símbolo \\ indica que la sentencia continúa en la siguiente línea (mala práctica)\n",
    "if x1 == 45:\n",
    "    x1=35\n",
    "    x2=\"Ahora ya no\"\n",
    "print(x2)    \n",
    "    "
   ]
  },
  {
   "cell_type": "markdown",
   "id": "a0dca9bd",
   "metadata": {},
   "source": [
    "Después de ver este ejemplo, es claro que los espacios en blanco y los saltos de línea pueden ser distinguidos y tener significado para Python.\n",
    "Los bloques no se delimitan por marcas como { como en el lenguaje R, sino mediante la identación."
   ]
  },
  {
   "cell_type": "markdown",
   "id": "4d642d40",
   "metadata": {},
   "source": [
    "x1 y x2 son objetos llamados variables (al igual que entero, cadena y flotante del primer ejemplo). Las variables son, espacios de memoria en la computadora que son asignados mediante un nombre (como x1 y x2) y un valor (45 y \"Este texto\")"
   ]
  },
  {
   "cell_type": "markdown",
   "id": "e0b539c5",
   "metadata": {},
   "source": [
    "Para nombrar a la variables pueden utilizarse cualquier palabra que contenga caracteres alfanuméricos y guiones bajos. Las únicas excepciones son las palabras reservadas, las cuales no pueden ser utilizadas para nombrar variables ni funciones, ya que sirven para el funcionamiento del lenguaje."
   ]
  },
  {
   "cell_type": "markdown",
   "id": "06f93de9",
   "metadata": {},
   "source": [
    "Podemos visualizar las palabras reservadas en Python con el siguiente código:"
   ]
  },
  {
   "cell_type": "code",
   "execution_count": 28,
   "id": "c60d7118",
   "metadata": {},
   "outputs": [
    {
     "name": "stdout",
     "output_type": "stream",
     "text": [
      "['False', 'None', 'True', '__peg_parser__', 'and', 'as', 'assert', 'async', 'await', 'break', 'class', 'continue', 'def', 'del', 'elif', 'else', 'except', 'finally', 'for', 'from', 'global', 'if', 'import', 'in', 'is', 'lambda', 'nonlocal', 'not', 'or', 'pass', 'raise', 'return', 'try', 'while', 'with', 'yield']\n"
     ]
    }
   ],
   "source": [
    "import keyword\n",
    "print(keyword.kwlist)"
   ]
  },
  {
   "cell_type": "markdown",
   "id": "4cd6ac03",
   "metadata": {},
   "source": [
    "Si bien se ha dicho que a las variables y a las funciones pueden nombrarséles de cualquier manera, excepto por las palabras reservadas, hay que considerar las buenas prácticas de programación para este tópico.\n",
    "Algunas de estas buenas prácticas nos recomiendan que los nombres de las variables sean autoexplicativos y que estén en minúsculas."
   ]
  },
  {
   "cell_type": "markdown",
   "id": "4f968516",
   "metadata": {},
   "source": [
    "En nuestro ejemplo anterior, le hemos dado los nombres x1 y x2 a nuestras variables. El lector está en lo correcto si piensa que esto incurre en malas prácticas de programación, ya que los nombres no son autoexplicativos, pero hay que notar que este es un ejemplo didáctico y es un código pequeño. Cuando el lectro esté trabajando en un proyecto grande con mucha gente trabajando en él al mismo tiempo, será entonces cuando se note la importancia de saber qué variables se están manipulando y qué significan."
   ]
  },
  {
   "cell_type": "code",
   "execution_count": 54,
   "id": "84a58097",
   "metadata": {},
   "outputs": [],
   "source": [
    "poliza = \"A45F92\" \n",
    "beneficiarios = 2\n",
    "prima = 783.45\n",
    "poliza2 = poliza\n",
    "beneficiario1, beneficiario2 = \"Lucía Buenfil\", \"Alexis Rodríguez\" #declaración múltiple de variables en una sola línea"
   ]
  },
  {
   "cell_type": "markdown",
   "id": "4d686a48",
   "metadata": {},
   "source": [
    "## Input"
   ]
  },
  {
   "cell_type": "markdown",
   "id": "e42f1012",
   "metadata": {},
   "source": [
    "Los usuarios también pueden ingresar datos de entrada (input) mediante el teclado para que nuestro programa realice el trabajo para el cual fue codificado. Para que el código pueda recibir un input, utilizaremos la función con el mismo nombre, input()."
   ]
  },
  {
   "cell_type": "code",
   "execution_count": 45,
   "id": "be433f36",
   "metadata": {},
   "outputs": [
    {
     "name": "stdout",
     "output_type": "stream",
     "text": [
      "Escribe tu nombreAlejandro\n",
      "Hola, Alejandro. Gracias por tu ayuda.\n"
     ]
    }
   ],
   "source": [
    "datos_de_entrada = input(\"Escribe tu nombre\")\n",
    "print(\"Hola, \" + datos_de_entrada + \". Gracias por tu ayuda.\")"
   ]
  },
  {
   "cell_type": "markdown",
   "id": "1a8900b1",
   "metadata": {},
   "source": [
    "## Output"
   ]
  },
  {
   "cell_type": "markdown",
   "id": "c8f1dd33",
   "metadata": {},
   "source": [
    "Hay varias maneras de de imprimir valores en Python. Por ejemplo, las declaraciones de expresión:"
   ]
  },
  {
   "cell_type": "code",
   "execution_count": 46,
   "id": "63969e1d",
   "metadata": {},
   "outputs": [
    {
     "data": {
      "text/plain": [
       "65"
      ]
     },
     "execution_count": 46,
     "metadata": {},
     "output_type": "execute_result"
    }
   ],
   "source": [
    "55 + 10"
   ]
  },
  {
   "cell_type": "markdown",
   "id": "b75e3220",
   "metadata": {},
   "source": [
    "Como se puede ver, se imprime el resultado de dicha operación."
   ]
  },
  {
   "cell_type": "markdown",
   "id": "1aa65fa3",
   "metadata": {},
   "source": [
    "Otra opción para imprimir valores en Python es la función print( ) :"
   ]
  },
  {
   "cell_type": "code",
   "execution_count": 55,
   "id": "140bf9b1",
   "metadata": {},
   "outputs": [
    {
     "name": "stdout",
     "output_type": "stream",
     "text": [
      "La póliza: A45F92 está vigente\n"
     ]
    }
   ],
   "source": [
    "print(\"La póliza: \" + poliza + \" está vigente\")"
   ]
  },
  {
   "cell_type": "markdown",
   "id": "7d30d6db",
   "metadata": {},
   "source": [
    "Ahora, ¿qué pasa si queremos que se imprima \"La póliza A45f92 está vigente y tiene 2 beneficiarios llamados Lucía Buenfil y Alexis Rodríguez\" utilizando las variables del código en la línea 44?. Probablemente intentaríamos algo parecido:"
   ]
  },
  {
   "cell_type": "code",
   "execution_count": 56,
   "id": "0dae58c8",
   "metadata": {},
   "outputs": [
    {
     "ename": "TypeError",
     "evalue": "can only concatenate str (not \"int\") to str",
     "output_type": "error",
     "traceback": [
      "\u001b[0;31m---------------------------------------------------------------------------\u001b[0m",
      "\u001b[0;31mTypeError\u001b[0m                                 Traceback (most recent call last)",
      "\u001b[0;32m/var/folders/xh/kyf_zg5d3h372b53_h9v1s8h0000gn/T/ipykernel_6322/2068986846.py\u001b[0m in \u001b[0;36m<module>\u001b[0;34m\u001b[0m\n\u001b[0;32m----> 1\u001b[0;31m \u001b[0mprint\u001b[0m\u001b[0;34m(\u001b[0m\u001b[0;34m\"La póliza: \"\u001b[0m \u001b[0;34m+\u001b[0m \u001b[0mpoliza\u001b[0m \u001b[0;34m+\u001b[0m \u001b[0;34m\" está vigente y tiene \"\u001b[0m \u001b[0;34m+\u001b[0m \u001b[0mbeneficiarios\u001b[0m \u001b[0;34m+\u001b[0m \u001b[0;34m\" beneficiarios llamados \"\u001b[0m \u001b[0;34m+\u001b[0m \u001b[0mbeneficiario1\u001b[0m \u001b[0;34m+\u001b[0m \u001b[0;34m\" y \"\u001b[0m \u001b[0;34m+\u001b[0m \u001b[0mbeneficiario2\u001b[0m\u001b[0;34m)\u001b[0m\u001b[0;34m\u001b[0m\u001b[0;34m\u001b[0m\u001b[0m\n\u001b[0m",
      "\u001b[0;31mTypeError\u001b[0m: can only concatenate str (not \"int\") to str"
     ]
    }
   ],
   "source": [
    "print(\"La póliza: \" + poliza + \" está vigente y tiene \" + beneficiarios + \" beneficiarios llamados \" + beneficiario1 + \" y \" + beneficiario2)"
   ]
  },
  {
   "cell_type": "markdown",
   "id": "f48d440a",
   "metadata": {},
   "source": [
    "Pero como se puede ver, se nos arroja un error. ¿Por qué pasa esto? Porque no podemos concatenar (unir) datos de tipo entero (int) como el asignado a la variable beficiarios con cadenas de caracteres como \"La póliza: \" ni con variables con datos de tipo cadena de caracteres (str) como poliza, beneficiario1 y beneficiario2."
   ]
  },
  {
   "cell_type": "markdown",
   "id": "88ca3b43",
   "metadata": {},
   "source": [
    "Esto se soluciona con la función str() que convierte al argumento dentro de ( ) a un dato de tipo cadena de caracteres.\n",
    "En nuestro ejemplo, convertiremos beneficiarios que es de tipo int a tipo str para poder concatenar correctamente todos los datos:"
   ]
  },
  {
   "cell_type": "code",
   "execution_count": 57,
   "id": "51de5c6a",
   "metadata": {},
   "outputs": [
    {
     "name": "stdout",
     "output_type": "stream",
     "text": [
      "La póliza: A45F92 está vigente y tiene 2 beneficiarios llamados Lucía Buenfil y Alexis Rodríguez\n"
     ]
    }
   ],
   "source": [
    "print(\"La póliza: \" + poliza + \" está vigente y tiene \" + str(beneficiarios) + \" beneficiarios llamados \" + beneficiario1 + \" y \" + beneficiario2)"
   ]
  },
  {
   "cell_type": "markdown",
   "id": "57adf44e",
   "metadata": {},
   "source": [
    "## Tipos de datos"
   ]
  },
  {
   "cell_type": "markdown",
   "id": "127a9387",
   "metadata": {},
   "source": [
    "El ejemplo anterior nos hace notar la importancia de entender y poder diferenciar los tipos de datos que estamos utilizando en nuestro programa y saber qué tipos de datos obtenemos después de ser empleados por las funciones de nuestro código. "
   ]
  },
  {
   "cell_type": "markdown",
   "id": "a8fc5e40",
   "metadata": {},
   "source": [
    "Los tipos de datos más básicos de Pyton son los siguientes:"
   ]
  },
  {
   "cell_type": "markdown",
   "id": "2a6026e5",
   "metadata": {},
   "source": [
    "* *string* o *cadena de caracteres*\n",
    "* Numéricos:\n",
    "   * *Int* (enteros)\n",
    "   * *float* (de punto flotante)\n",
    "   * *complex* (complejos): consta de una parte real y de otra imaginaria. Por ejemplo: 1 + 3j. Como se puede ver, para agregar la parte imaginaria, se agrega j al segundo sumando.\n",
    "* *bool* o booleanos"
   ]
  },
  {
   "cell_type": "code",
   "execution_count": 58,
   "id": "978a1b15",
   "metadata": {},
   "outputs": [],
   "source": [
    "cadena = \"Hola, mundo\"  #string\n",
    "entero = 45 #Entero\n",
    "flotante = 2.2\n",
    "complejo = 45 + 2.2j\n",
    "booleano = True"
   ]
  },
  {
   "cell_type": "markdown",
   "id": "37a6805f",
   "metadata": {},
   "source": [
    "Como se vio líneas arriba, si queremos saber de qué tipo es una variable o valor determinado, utilizamos la función *type()*."
   ]
  },
  {
   "cell_type": "code",
   "execution_count": 60,
   "id": "9e9db0bb",
   "metadata": {},
   "outputs": [
    {
     "name": "stdout",
     "output_type": "stream",
     "text": [
      "<class 'str'>\n",
      "<class 'int'>\n",
      "<class 'float'>\n",
      "<class 'complex'>\n",
      "<class 'bool'>\n"
     ]
    }
   ],
   "source": [
    "print(type(cadena))\n",
    "print(type(entero))\n",
    "print(type(flotante))\n",
    "print(type(complejo))\n",
    "print(type(booleano))"
   ]
  },
  {
   "cell_type": "markdown",
   "id": "3a6c7f69",
   "metadata": {},
   "source": [
    "Es fácil darse cuenta de que podemos cambiar los tipos de las variables. Se puede hacer manualmente de la siguiente forma:"
   ]
  },
  {
   "cell_type": "code",
   "execution_count": 68,
   "id": "d9492e5c",
   "metadata": {},
   "outputs": [
    {
     "name": "stdout",
     "output_type": "stream",
     "text": [
      "<class 'int'>\n",
      "45\n",
      "<class 'str'>\n"
     ]
    }
   ],
   "source": [
    "entero = 45\n",
    "print(type(entero))\n",
    "print(str(entero))\n",
    "print(type(str(entero))) #volvimos un dato de tipo entero a uno de tipo string o cadena de caracteres."
   ]
  },
  {
   "cell_type": "markdown",
   "id": "02eee47f",
   "metadata": {},
   "source": [
    "Otros ejemplos:"
   ]
  },
  {
   "cell_type": "code",
   "execution_count": 70,
   "id": "52349d15",
   "metadata": {},
   "outputs": [
    {
     "name": "stdout",
     "output_type": "stream",
     "text": [
      "2\n",
      "1.0\n"
     ]
    }
   ],
   "source": [
    "print(int(flotante)) #convertir 2.2 (flotante) a 2 (entero con truncamiento de decimales)\n",
    "print(float(booleano)) #convertir 1 y 0 (valores booleanos) a 1.0 y 0.0 (valores flotantes)"
   ]
  },
  {
   "cell_type": "markdown",
   "id": "bda4ca7b",
   "metadata": {},
   "source": [
    "Es evidente que al tratar de convertir ciertos tipos a otros, produce un error:"
   ]
  },
  {
   "cell_type": "code",
   "execution_count": 71,
   "id": "a1746f64",
   "metadata": {},
   "outputs": [
    {
     "ename": "ValueError",
     "evalue": "could not convert string to float: 'Hola, mundo'",
     "output_type": "error",
     "traceback": [
      "\u001b[0;31m---------------------------------------------------------------------------\u001b[0m",
      "\u001b[0;31mValueError\u001b[0m                                Traceback (most recent call last)",
      "\u001b[0;32m/var/folders/xh/kyf_zg5d3h372b53_h9v1s8h0000gn/T/ipykernel_6322/1367371387.py\u001b[0m in \u001b[0;36m<module>\u001b[0;34m\u001b[0m\n\u001b[0;32m----> 1\u001b[0;31m \u001b[0mprint\u001b[0m\u001b[0;34m(\u001b[0m\u001b[0mfloat\u001b[0m\u001b[0;34m(\u001b[0m\u001b[0mcadena\u001b[0m\u001b[0;34m)\u001b[0m\u001b[0;34m)\u001b[0m\u001b[0;34m\u001b[0m\u001b[0;34m\u001b[0m\u001b[0m\n\u001b[0m",
      "\u001b[0;31mValueError\u001b[0m: could not convert string to float: 'Hola, mundo'"
     ]
    }
   ],
   "source": [
    "print(float(cadena))"
   ]
  },
  {
   "cell_type": "markdown",
   "id": "1eeb7562",
   "metadata": {},
   "source": [
    "Esto se debe a que una cadena de caracteres no es un dato numérico y no puede ser convertido a otro tipo de estos datos (int, float, complex)."
   ]
  },
  {
   "cell_type": "markdown",
   "id": "fae28a58",
   "metadata": {},
   "source": [
    "\n",
    "\n",
    "\n",
    "Por último, hablaremos de un tipo de dato que no se mencionó al comienzo de esta sección: el tipo **NoneType**. El único valor posible que puede tomar este tipo de datos es **None**. \n",
    "Frecuentemente None se utiliza cuando a una variable aún no se le quiere asignar un valor en particular. Es decir, creamos una variable *vacía*, aunque este término no es del todo correcto:"
   ]
  },
  {
   "cell_type": "code",
   "execution_count": 74,
   "id": "f3596117",
   "metadata": {},
   "outputs": [
    {
     "name": "stdout",
     "output_type": "stream",
     "text": [
      "None\n",
      "<class 'NoneType'>\n"
     ]
    }
   ],
   "source": [
    "variable_vacia = None\n",
    "print(variable_vacia)\n",
    "print(type(variable_vacia))"
   ]
  },
  {
   "cell_type": "markdown",
   "id": "41f7029e",
   "metadata": {},
   "source": [
    "## Operadores"
   ]
  },
  {
   "cell_type": "markdown",
   "id": "6defa162",
   "metadata": {},
   "source": [
    "Ahora que ya sabemos qué son las variables y de qué tipo pueden ser, podemos modificarlas y transformarlas gracias a los operadores.\n",
    "En Python hay varios tipos de operadores, pero nos centraremos en los básicos.\n"
   ]
  },
  {
   "cell_type": "markdown",
   "id": "a7af954b",
   "metadata": {},
   "source": [
    "### Operadores Aritméticos"
   ]
  },
  {
   "cell_type": "markdown",
   "id": "5675a6d9",
   "metadata": {},
   "source": [
    "- \"+\" suma los operandos.\n",
    "* \"-\" resta los operandos.\n",
    "* \"*\" multiplica los operandos.\n",
    "* \"/\" divide los operandos.\n",
    "- \"**\" realiza la potencia entre los operandos.\n",
    "* \"%\"  calcula el módulo entre dos operandos.\n",
    "* \"//\" divide los operandos, pero con un resultado entero redondeado hacia abajo (división entera)."
   ]
  },
  {
   "cell_type": "markdown",
   "id": "b1419c6f",
   "metadata": {},
   "source": [
    "Ejemplos:"
   ]
  },
  {
   "cell_type": "code",
   "execution_count": 77,
   "id": "952bb155",
   "metadata": {},
   "outputs": [
    {
     "name": "stdout",
     "output_type": "stream",
     "text": [
      "35\n",
      "-5\n",
      "300\n",
      "0.75\n",
      "332525673007965087890625\n",
      "15\n",
      "0\n"
     ]
    }
   ],
   "source": [
    "suma = 15 + 20\n",
    "print(suma)\n",
    "\n",
    "resta = 15 - 20\n",
    "print(resta)\n",
    "\n",
    "mult = 15*20\n",
    "print(mult)\n",
    "\n",
    "div = 15/20\n",
    "print(div)\n",
    "\n",
    "pot = 15**20\n",
    "print(pot)\n",
    "\n",
    "mod = 15%20\n",
    "print(mod)\n",
    "\n",
    "div_int = 15//20\n",
    "print(div_int)"
   ]
  },
  {
   "cell_type": "markdown",
   "id": "4cf37a95",
   "metadata": {},
   "source": [
    "Haciéndolo con variables:"
   ]
  },
  {
   "cell_type": "code",
   "execution_count": 78,
   "id": "85bfb6dd",
   "metadata": {},
   "outputs": [
    {
     "name": "stdout",
     "output_type": "stream",
     "text": [
      "35\n",
      "-5\n",
      "300\n",
      "0.75\n",
      "332525673007965087890625\n",
      "15\n",
      "0\n"
     ]
    }
   ],
   "source": [
    "a= 15\n",
    "b= 20\n",
    "\n",
    "suma = a + b\n",
    "print(suma)\n",
    "\n",
    "resta = a - b\n",
    "print(resta)\n",
    "\n",
    "mult = a*b\n",
    "print(mult)\n",
    "\n",
    "div = a/b\n",
    "print(div)\n",
    "\n",
    "pot = a**b\n",
    "print(pot)\n",
    "\n",
    "mod = a%b\n",
    "print(mod)\n",
    "\n",
    "div_int = a//b\n",
    "print(div_int)"
   ]
  },
  {
   "cell_type": "markdown",
   "id": "bf27bc86",
   "metadata": {},
   "source": [
    "### Operadores comparativos"
   ]
  },
  {
   "cell_type": "markdown",
   "id": "36fd8d54",
   "metadata": {},
   "source": [
    "El resultado de utilizar estos operadores será **True** o **False**."
   ]
  },
  {
   "cell_type": "markdown",
   "id": "953cd0ff",
   "metadata": {},
   "source": [
    "* \"==\" Igual: Arroja *True* si los dos valores comparados son iguales. Obtenemos *False* en caso contrario.\n",
    "* \"!=\" Distinto: Arroja *True* si los dos valores comparados son distintos. Obtenemos *False* en caso contrario.\n",
    "- \">\"  Mayor que: Arroja *True* si el valor de la izquierda es estrictamente mayor que el de la derecha. *False* en caso contrario.\n",
    "* \"<\"  Menor que: Arroja *True* si el valor de la izquierda es estrictamente menor que el de la derecha. *False* en caso contrario.\n",
    "+ \">=\" Mayor o igual que: Arroja *True* si el valor de la izquierda es  mayor o igual que el de la derecha. *False* en caso contrario.\n",
    "+ \"<=\" Menor o igual que: Arroja *True* si el valor de la izquierda es  menor o igual que el de la derecha. *False* en caso contrario."
   ]
  },
  {
   "cell_type": "markdown",
   "id": "e4cd7244",
   "metadata": {},
   "source": [
    "Ejemplos:"
   ]
  },
  {
   "cell_type": "code",
   "execution_count": 89,
   "id": "be4ebde4",
   "metadata": {},
   "outputs": [
    {
     "name": "stdout",
     "output_type": "stream",
     "text": [
      "True\n",
      "False\n",
      "True\n",
      "False\n",
      "False\n",
      "True\n",
      "True\n",
      "False\n",
      "False\n",
      "True\n"
     ]
    }
   ],
   "source": [
    "a = 37\n",
    "b = 37.0\n",
    "c=41\n",
    "d = \"Hola\"\n",
    "e = \"hola\"\n",
    "\n",
    "print(a == b)\n",
    "print(a != b)\n",
    "print(a != c)\n",
    "print(e == d)\n",
    "print(a > c)\n",
    "print(c > a)\n",
    "print(a < c)\n",
    "print(c < a)\n",
    "print(a >= c)\n",
    "print(a <= c)\n"
   ]
  },
  {
   "cell_type": "markdown",
   "id": "1133d74f",
   "metadata": {},
   "source": [
    "### Operadores Lógicos"
   ]
  },
  {
   "cell_type": "markdown",
   "id": "44afceed",
   "metadata": {},
   "source": [
    "* *and* arroja **True** si los dos valores que se comparan son verdaderos. **False** en caso contrario.\n",
    "* *or*  arroja **True** si alguno de los dos valores que se comparan son verdaderos. **False** en caso contrario.\n",
    "* *not* arroja **True** si el valor que se está comparando es falso. **Verdadero** en caso contrario."
   ]
  },
  {
   "cell_type": "markdown",
   "id": "70d118f9",
   "metadata": {},
   "source": [
    "Ejemplos:"
   ]
  },
  {
   "cell_type": "code",
   "execution_count": 90,
   "id": "71d798d1",
   "metadata": {},
   "outputs": [
    {
     "data": {
      "text/plain": [
       "False"
      ]
     },
     "execution_count": 90,
     "metadata": {},
     "output_type": "execute_result"
    }
   ],
   "source": [
    "a1 = 38\n",
    "a2 = 12\n",
    "\n",
    "a1 < 0 and a2 == 12"
   ]
  },
  {
   "cell_type": "code",
   "execution_count": 91,
   "id": "519faf37",
   "metadata": {},
   "outputs": [
    {
     "data": {
      "text/plain": [
       "True"
      ]
     },
     "execution_count": 91,
     "metadata": {},
     "output_type": "execute_result"
    }
   ],
   "source": [
    "a1 < 0 or a2 == 12"
   ]
  },
  {
   "cell_type": "code",
   "execution_count": 92,
   "id": "75ac666a",
   "metadata": {},
   "outputs": [
    {
     "data": {
      "text/plain": [
       "True"
      ]
     },
     "execution_count": 92,
     "metadata": {},
     "output_type": "execute_result"
    }
   ],
   "source": [
    "not a1 < 0"
   ]
  },
  {
   "cell_type": "markdown",
   "id": "b7544033",
   "metadata": {},
   "source": [
    "### Operadores de asignación"
   ]
  },
  {
   "cell_type": "markdown",
   "id": "642ac161",
   "metadata": {},
   "source": [
    "Como hemos visto, el operador de asignación más básico es \"=\", el cual asigna un valor a una variable; pero hay muchos más operadores de asignación. Los más utilizados son:\n",
    "\n",
    " \n",
    "* \"+=\"\t\n",
    "* \"-=\"\t\n",
    "* \"*=\"\t\n",
    "* \"/=\"\t\n",
    "* \"%=\"\t\n",
    "* \"//=\"\t\n",
    "* \"**=\"\t"
   ]
  },
  {
   "cell_type": "markdown",
   "id": "69367fb7",
   "metadata": {},
   "source": [
    "Ejemplos:"
   ]
  },
  {
   "cell_type": "code",
   "execution_count": 108,
   "id": "fdd28a04",
   "metadata": {},
   "outputs": [
    {
     "data": {
      "text/plain": [
       "2"
      ]
     },
     "execution_count": 108,
     "metadata": {},
     "output_type": "execute_result"
    }
   ],
   "source": [
    "x=1\n",
    "x+=1 #x = x+1\n",
    "x"
   ]
  },
  {
   "cell_type": "code",
   "execution_count": 109,
   "id": "d211a86b",
   "metadata": {},
   "outputs": [
    {
     "data": {
      "text/plain": [
       "0"
      ]
     },
     "execution_count": 109,
     "metadata": {},
     "output_type": "execute_result"
    }
   ],
   "source": [
    "x=1\n",
    "x-=1 #x = x-1\n",
    "x"
   ]
  },
  {
   "cell_type": "code",
   "execution_count": 110,
   "id": "8d9e552f",
   "metadata": {},
   "outputs": [
    {
     "data": {
      "text/plain": [
       "2"
      ]
     },
     "execution_count": 110,
     "metadata": {},
     "output_type": "execute_result"
    }
   ],
   "source": [
    "x=1\n",
    "x*=2 #x = x*2\n",
    "x"
   ]
  },
  {
   "cell_type": "code",
   "execution_count": 111,
   "id": "afaf665f",
   "metadata": {},
   "outputs": [
    {
     "data": {
      "text/plain": [
       "0.5"
      ]
     },
     "execution_count": 111,
     "metadata": {},
     "output_type": "execute_result"
    }
   ],
   "source": [
    "x=1\n",
    "x/=2 #x = x/2\n",
    "x"
   ]
  },
  {
   "cell_type": "code",
   "execution_count": 112,
   "id": "8f65b486",
   "metadata": {},
   "outputs": [
    {
     "data": {
      "text/plain": [
       "0"
      ]
     },
     "execution_count": 112,
     "metadata": {},
     "output_type": "execute_result"
    }
   ],
   "source": [
    "x=1\n",
    "x%=1 #x = x%1\n",
    "x"
   ]
  },
  {
   "cell_type": "code",
   "execution_count": 113,
   "id": "d3dee775",
   "metadata": {},
   "outputs": [
    {
     "data": {
      "text/plain": [
       "0"
      ]
     },
     "execution_count": 113,
     "metadata": {},
     "output_type": "execute_result"
    }
   ],
   "source": [
    "x=1\n",
    "x//=5 #x = x//5\n",
    "x"
   ]
  },
  {
   "cell_type": "code",
   "execution_count": 114,
   "id": "4e978381",
   "metadata": {},
   "outputs": [
    {
     "data": {
      "text/plain": [
       "8"
      ]
     },
     "execution_count": 114,
     "metadata": {},
     "output_type": "execute_result"
    }
   ],
   "source": [
    "x=2\n",
    "x**=3 #x = x**3\n",
    "x"
   ]
  }
 ],
 "metadata": {
  "kernelspec": {
   "display_name": "Python 3 (ipykernel)",
   "language": "python",
   "name": "python3"
  },
  "language_info": {
   "codemirror_mode": {
    "name": "ipython",
    "version": 3
   },
   "file_extension": ".py",
   "mimetype": "text/x-python",
   "name": "python",
   "nbconvert_exporter": "python",
   "pygments_lexer": "ipython3",
   "version": "3.9.7"
  }
 },
 "nbformat": 4,
 "nbformat_minor": 5
}
